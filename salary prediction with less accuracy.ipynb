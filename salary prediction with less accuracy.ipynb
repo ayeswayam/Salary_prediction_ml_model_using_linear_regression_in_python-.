{
 "cells": [
  {
   "cell_type": "markdown",
   "id": "30f9a0fb",
   "metadata": {},
   "source": [
    "# salary prediction short and simple code with less accuracy"
   ]
  },
  {
   "cell_type": "code",
   "execution_count": 1,
   "id": "57bf8f0a",
   "metadata": {},
   "outputs": [
    {
     "name": "stdout",
     "output_type": "stream",
     "text": [
      "Predicted salary for 7 years of experience: 89983.11\n"
     ]
    }
   ],
   "source": [
    "# Import required libraries\n",
    "import pandas as pd\n",
    "from sklearn.linear_model import LinearRegression\n",
    "\n",
    "# Load the CSV file into a DataFrame\n",
    "data = pd.read_csv('C:\\\\Users\\\\ayesw\\\\Desktop\\\\summer training projects\\\\salary prediction\\\\Salary.csv')\n",
    "\n",
    "# Separate the independent variable (years of experience) and dependent variable (salary)\n",
    "X = data.iloc[:, :-1].values\n",
    "y = data.iloc[:, 1].values\n",
    "\n",
    "# Create a linear regression object and fit the data\n",
    "regressor = LinearRegression()\n",
    "regressor.fit(X, y)\n",
    "\n",
    "# Predict salary for a given number of years of experience\n",
    "years_of_exp = 7\n",
    "predicted_salary = regressor.predict([[years_of_exp]])\n",
    "\n",
    "print(\"Predicted salary for {} years of experience: {:.2f}\".format(years_of_exp, predicted_salary[0]))\n"
   ]
  },
  {
   "cell_type": "code",
   "execution_count": null,
   "id": "513b7321",
   "metadata": {},
   "outputs": [],
   "source": []
  }
 ],
 "metadata": {
  "kernelspec": {
   "display_name": "Python 3 (ipykernel)",
   "language": "python",
   "name": "python3"
  },
  "language_info": {
   "codemirror_mode": {
    "name": "ipython",
    "version": 3
   },
   "file_extension": ".py",
   "mimetype": "text/x-python",
   "name": "python",
   "nbconvert_exporter": "python",
   "pygments_lexer": "ipython3",
   "version": "3.9.13"
  }
 },
 "nbformat": 4,
 "nbformat_minor": 5
}
